{
 "cells": [
  {
   "cell_type": "markdown",
   "id": "b00671b9",
   "metadata": {},
   "source": [
    "# Employee Performance Prediction using Machine Learning\n",
    "\n",
    "**Author**: Shivam Verma  \n",
    "**Branch**: CSE  \n",
    "**College**: GNIOT, Greater Noida  \n",
    "\n",
    "\n",
    "This notebook is designed to predict the productivity of garments factory workers using various ML models."
   ]
  },
  {
   "cell_type": "markdown",
   "id": "635607a2",
   "metadata": {},
   "source": [
    "## 1. Import Libraries"
   ]
  },
  {
   "cell_type": "code",
   "execution_count": null,
   "id": "75caeec5",
   "metadata": {},
   "outputs": [],
   "source": [
    "import pandas as pd\n",
    "import numpy as np\n",
    "import matplotlib.pyplot as plt\n",
    "import seaborn as sns\n",
    "\n",
    "from sklearn.model_selection import train_test_split\n",
    "from sklearn.linear_model import LinearRegression\n",
    "from sklearn.ensemble import RandomForestRegressor\n",
    "from xgboost import XGBRegressor\n",
    "from sklearn.metrics import mean_absolute_error, mean_squared_error, r2_score"
   ]
  },
  {
   "cell_type": "markdown",
   "id": "a484d1bf",
   "metadata": {},
   "source": [
    "## 2. Load Dataset"
   ]
  },
  {
   "cell_type": "code",
   "execution_count": null,
   "id": "e21b85d9",
   "metadata": {},
   "outputs": [],
   "source": [
    "df = pd.read_csv('garments_worker_productivity.csv')\n",
    "df.head()"
   ]
  },
  {
   "cell_type": "markdown",
   "id": "5e775b24",
   "metadata": {},
   "source": [
    "## 3. Preprocess Data"
   ]
  },
  {
   "cell_type": "code",
   "execution_count": null,
   "id": "d673bc16",
   "metadata": {},
   "outputs": [],
   "source": [
    "# Handle missing values\n",
    "df.dropna(inplace=True)\n",
    "\n",
    "# Convert date and extract month\n",
    "df['date'] = pd.to_datetime(df['date'])\n",
    "df['month'] = df['date'].dt.month\n",
    "df.drop('date', axis=1, inplace=True)\n",
    "\n",
    "# Label Encoding\n",
    "from sklearn.preprocessing import LabelEncoder\n",
    "le = LabelEncoder()\n",
    "for col in ['department', 'day', 'quarter']:\n",
    "    df[col] = le.fit_transform(df[col])\n",
    "\n",
    "df.head()"
   ]
  },
  {
   "cell_type": "markdown",
   "id": "c9ad2e6c",
   "metadata": {},
   "source": [
    "## 4. Split Data"
   ]
  },
  {
   "cell_type": "code",
   "execution_count": null,
   "id": "a132c000",
   "metadata": {},
   "outputs": [],
   "source": [
    "X = df.drop('actual_productivity', axis=1)\n",
    "y = df['actual_productivity']\n",
    "X_train, X_test, y_train, y_test = train_test_split(X, y, test_size=0.2, random_state=42)"
   ]
  },
  {
   "cell_type": "markdown",
   "id": "ef8fec75",
   "metadata": {},
   "source": [
    "## 5. Train Models"
   ]
  },
  {
   "cell_type": "code",
   "execution_count": null,
   "id": "3be46cd2",
   "metadata": {},
   "outputs": [],
   "source": [
    "# Linear Regression\n",
    "lr = LinearRegression()\n",
    "lr.fit(X_train, y_train)\n",
    "\n",
    "# Random Forest\n",
    "rf = RandomForestRegressor()\n",
    "rf.fit(X_train, y_train)\n",
    "\n",
    "# XGBoost\n",
    "xgb = XGBRegressor()\n",
    "xgb.fit(X_train, y_train)"
   ]
  },
  {
   "cell_type": "markdown",
   "id": "755b690f",
   "metadata": {},
   "source": [
    "## 6. Evaluate Models"
   ]
  },
  {
   "cell_type": "code",
   "execution_count": null,
   "id": "a3236aca",
   "metadata": {},
   "outputs": [],
   "source": [
    "def evaluate(name, y_true, y_pred):\n",
    "    print(f'{name}')\n",
    "    print('MAE:', mean_absolute_error(y_true, y_pred))\n",
    "    print('MSE:', mean_squared_error(y_true, y_pred))\n",
    "    print('R2:', r2_score(y_true, y_pred))\n",
    "\n",
    "evaluate('Linear Regression', y_test, lr.predict(X_test))\n",
    "evaluate('Random Forest', y_test, rf.predict(X_test))\n",
    "evaluate('XGBoost', y_test, xgb.predict(X_test))"
   ]
  },
  {
   "cell_type": "markdown",
   "id": "f3cf6354",
   "metadata": {},
   "source": [
    "## 7. Save Best Model"
   ]
  },
  {
   "cell_type": "code",
   "execution_count": null,
   "id": "109fca8b",
   "metadata": {},
   "outputs": [],
   "source": [
    "import pickle\n",
    "with open('best_model.pkl', 'wb') as f:\n",
    "    pickle.dump(xgb, f)"
   ]
  }
 ],
 "metadata": {
  "language_info": {
   "name": "python"
  }
 },
 "nbformat": 4,
 "nbformat_minor": 5
}
